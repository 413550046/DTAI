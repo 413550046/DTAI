{
 "cells": [
  {
   "cell_type": "code",
   "execution_count": 1,
   "metadata": {},
   "outputs": [
    {
     "name": "stdout",
     "output_type": "stream",
     "text": [
      "0813\n"
     ]
    }
   ],
   "source": [
    "print(\"0813\")"
   ]
  },
  {
   "cell_type": "code",
   "execution_count": 11,
   "metadata": {},
   "outputs": [
    {
     "name": "stdout",
     "output_type": "stream",
     "text": [
      "體溫正常!\n"
     ]
    }
   ],
   "source": [
    "體溫 = int(input(\"請輸入體溫\"))\n",
    "if 體溫 >= 37.5:\n",
    "    print(\"體溫過高!\")\n",
    "elif 37<=體溫<=37.4 :\n",
    "    print(\"體溫略高!\")\n",
    "elif 34<=體溫 <=36.9 :\n",
    "    print(\"體溫正常!\")\n",
    "elif 體溫 <34:\n",
    "    print(\"體溫異常，請重新測量!\")\n",
    "\n"
   ]
  },
  {
   "cell_type": "code",
   "execution_count": 5,
   "metadata": {},
   "outputs": [
    {
     "name": "stdout",
     "output_type": "stream",
     "text": [
      "密碼正確\n"
     ]
    }
   ],
   "source": [
    "密碼=int(input(\"請輸入密碼\"))\n",
    "if 密碼 ==1234:\n",
    "    print(\"密碼正確\")\n",
    "             "
   ]
  },
  {
   "cell_type": "code",
   "execution_count": 6,
   "metadata": {},
   "outputs": [
    {
     "name": "stdout",
     "output_type": "stream",
     "text": [
      "密碼錯誤\n"
     ]
    }
   ],
   "source": [
    "密碼=int(input(\"請輸入密碼\"))\n",
    "if 密碼 ==1234:\n",
    "    print(\"歡迎光臨\")\n",
    "else:\n",
    "    print(\"密碼錯誤\")\n",
    "             "
   ]
  },
  {
   "cell_type": "code",
   "execution_count": 7,
   "metadata": {},
   "outputs": [
    {
     "name": "stdout",
     "output_type": "stream",
     "text": [
      "你輸入的數字是偶數\n"
     ]
    }
   ],
   "source": [
    "偶數判斷 = int(input(\"請輸入一個整數\"))\n",
    "if 偶數判斷%2==0:\n",
    "    print(\"你輸入的數字是偶數\")\n",
    "else:\n",
    "    print(\"你輸入的數字是奇數\")\n"
   ]
  },
  {
   "cell_type": "code",
   "execution_count": 12,
   "metadata": {},
   "outputs": [
    {
     "name": "stdout",
     "output_type": "stream",
     "text": [
      "C\n"
     ]
    }
   ],
   "source": [
    "成績 = int(input(\"請輸入成績\"))\n",
    "if 成績 >= 90:\n",
    "    print(\"A\")\n",
    "elif 80<=成績<=89:\n",
    "    print(\"B\")\n",
    "elif 70<=成績<=79 :\n",
    "    print(\"C\")\n",
    "elif 60<=成績 <=69:\n",
    "    print(\"D\")\n",
    "elif 60<=成績: \n",
    "    print(\"E\")\n"
   ]
  },
  {
   "cell_type": "code",
   "execution_count": 20,
   "metadata": {},
   "outputs": [
    {
     "name": "stdout",
     "output_type": "stream",
     "text": [
      "800.0\n"
     ]
    }
   ],
   "source": [
    "價格 = int(input(\"請輸入價格\"))\n",
    "if 價格 >=1000:\n",
    "    total=價格*0.8\n",
    "    print(total)  \n",
    "elif 500<=價格<=1000:\n",
    "    total=價格*0.9\n",
    "    print(total)  \n",
    "elif 500<=價格 :\n",
    "    total=價格\n",
    "    print(total)\n"
   ]
  },
  {
   "cell_type": "code",
   "execution_count": 22,
   "metadata": {},
   "outputs": [
    {
     "name": "stdout",
     "output_type": "stream",
     "text": [
      "油量充足!\n"
     ]
    }
   ],
   "source": [
    "油量 = int(input(\"請輸入油量\"))\n",
    "if 油量 <= 5:\n",
    "    print(\"需要立即加油!\")\n",
    "elif 5<=油量<=10 :\n",
    "    print(\"油量不足，建議加油!\")\n",
    "elif 油量 >10:\n",
    "    print(\"油量充足!\")\n"
   ]
  },
  {
   "cell_type": "code",
   "execution_count": null,
   "metadata": {},
   "outputs": [],
   "source": []
  }
 ],
 "metadata": {
  "kernelspec": {
   "display_name": "Python 3",
   "language": "python",
   "name": "python3"
  },
  "language_info": {
   "codemirror_mode": {
    "name": "ipython",
    "version": 3
   },
   "file_extension": ".py",
   "mimetype": "text/x-python",
   "name": "python",
   "nbconvert_exporter": "python",
   "pygments_lexer": "ipython3",
   "version": "3.12.4"
  }
 },
 "nbformat": 4,
 "nbformat_minor": 2
}
