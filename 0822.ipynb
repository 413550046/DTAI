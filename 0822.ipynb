{
 "cells": [
  {
   "cell_type": "code",
   "execution_count": 1,
   "metadata": {},
   "outputs": [
    {
     "name": "stdout",
     "output_type": "stream",
     "text": [
      "0822\n"
     ]
    }
   ],
   "source": [
    "print(\"0822\")"
   ]
  },
  {
   "cell_type": "code",
   "execution_count": 3,
   "metadata": {},
   "outputs": [
    {
     "name": "stdout",
     "output_type": "stream",
     "text": [
      "2.5\n"
     ]
    }
   ],
   "source": [
    "import math\n",
    "dividend = float(input())\n",
    "divisor = float(input())\n",
    "remainder = math.fmod(dividend, divisor)\n",
    "print(remainder)#輸入範例100 7.5\n",
    "\n"
   ]
  },
  {
   "cell_type": "code",
   "execution_count": 5,
   "metadata": {},
   "outputs": [
    {
     "name": "stdout",
     "output_type": "stream",
     "text": [
      "153,\n"
     ]
    }
   ],
   "source": [
    "start, end = map(int, input().split())\n",
    "narcissistic_numbers = []\n",
    "for num in range(start, end + 1):\n",
    "    if 100 <= num <= 999:\n",
    "        hundreds = num // 100\n",
    "        tens = (num // 10) % 10\n",
    "        ones = num % 10\n",
    "        sum_of_cubes = hundreds**3 + tens**3 + ones**3\n",
    "        if sum_of_cubes == num:\n",
    "            narcissistic_numbers.append(num)\n",
    "print(\",\".join(map(str, narcissistic_numbers)) + \",\")#輸入範例 100 300\n"
   ]
  },
  {
   "cell_type": "code",
   "execution_count": 6,
   "metadata": {},
   "outputs": [
    {
     "name": "stdout",
     "output_type": "stream",
     "text": [
      "t=2.0 b=5.0 h=4.8 area=16.8\n"
     ]
    }
   ],
   "source": [
    "上底 = float(input())\n",
    "下底 = float(input())\n",
    "高 = float(input())\n",
    "area = (上底 + 下底) * 高 / 2\n",
    "print(f\"t={上底} b={下底} h={高} area={area}\")#輸入範例2 5 4.8\n"
   ]
  },
  {
   "cell_type": "code",
   "execution_count": 7,
   "metadata": {},
   "outputs": [
    {
     "name": "stdout",
     "output_type": "stream",
     "text": [
      "park time:11h:9m\n",
      "pay:300 money\n"
     ]
    }
   ],
   "source": [
    "minutes = int(input())\n",
    "hours = minutes // 60\n",
    "remaining_minutes = minutes % 60\n",
    "if remaining_minutes > 0:\n",
    "    full_hours = hours + 1\n",
    "else:\n",
    "    full_hours = hours\n",
    "\n",
    "if full_hours <= 1:\n",
    "    pay = 20\n",
    "else:\n",
    "    pay = 40 * (full_hours - 1) + 20\n",
    "if pay > 300:\n",
    "    pay = 300\n",
    "print(f\"park time:{hours}h:{remaining_minutes}m\")\n",
    "print(f\"pay:{pay} money\")#輸入範例669\n"
   ]
  },
  {
   "cell_type": "code",
   "execution_count": 8,
   "metadata": {},
   "outputs": [
    {
     "name": "stdout",
     "output_type": "stream",
     "text": [
      "[3, 4, 5, 6, 7]\n"
     ]
    }
   ],
   "source": [
    "start, stop, step = map(int, input().split())\n",
    "result = range(start, stop, step)\n",
    "result_list = list(result)\n",
    "print(result_list)#輸入範例3 8 1 \n"
   ]
  },
  {
   "cell_type": "code",
   "execution_count": 9,
   "metadata": {},
   "outputs": [
    {
     "name": "stdout",
     "output_type": "stream",
     "text": [
      "2000 is leap year\n"
     ]
    }
   ],
   "source": [
    "year = int(input())\n",
    "if (year % 4 == 0 and year % 100 != 0) or (year % 400 == 0):\n",
    "    print(f\"{year} is leap year\")\n",
    "else:\n",
    "    print(f\"{year} is common year\")#輸入範例2000\n"
   ]
  },
  {
   "cell_type": "code",
   "execution_count": 10,
   "metadata": {},
   "outputs": [
    {
     "name": "stdout",
     "output_type": "stream",
     "text": [
      "120 is error\n"
     ]
    }
   ],
   "source": [
    "score = int(input())\n",
    "if score < 0 or score > 100:\n",
    "    result = \"error\"\n",
    "elif score >= 90:\n",
    "    result = \"A\"\n",
    "elif score >= 80:\n",
    "    result = \"B\"\n",
    "elif score >= 70:\n",
    "    result = \"C\"\n",
    "elif score >= 60:\n",
    "    result = \"D\"\n",
    "else:\n",
    "    result = \"E\"\n",
    "print(f\"{score} is {result}\")#輸入範例120\n"
   ]
  },
  {
   "cell_type": "code",
   "execution_count": 11,
   "metadata": {},
   "outputs": [
    {
     "name": "stdout",
     "output_type": "stream",
     "text": [
      "0,5,10,15,20,25,30,35,40,45,50,55,60,65,70,75,80,85,90,95,\n"
     ]
    }
   ],
   "source": [
    "start, end, step = map(int, input().split())\n",
    "numbers = []\n",
    "for num in range(start, end, step):\n",
    "    numbers.append(num)\n",
    "result = ','.join(map(str, numbers)) + ','\n",
    "print(result)#輸入範例 0 100 5\n"
   ]
  },
  {
   "cell_type": "code",
   "execution_count": 12,
   "metadata": {},
   "outputs": [
    {
     "name": "stdout",
     "output_type": "stream",
     "text": [
      "*\n",
      "**\n",
      "***\n",
      "****\n",
      "*****\n"
     ]
    }
   ],
   "source": [
    "n = int(input())\n",
    "for i in range(1, n + 1):\n",
    "    print('*' * i)#輸入範例 5\n"
   ]
  },
  {
   "cell_type": "code",
   "execution_count": 13,
   "metadata": {},
   "outputs": [
    {
     "name": "stdout",
     "output_type": "stream",
     "text": [
      "9*1=9 9*2=18 9*3=27 9*4=36 9*5=45 9*6=54 9*7=63 9*8=72 9*9=81 \n"
     ]
    }
   ],
   "source": [
    "n = int(input())\n",
    "for i in range(n,10):\n",
    "    for j in range(1,10):\n",
    "        print(\"%d*%d=%d\"%(i,j,i*j), end=\" \")\n",
    "    print()#輸入範例 9 "
   ]
  },
  {
   "cell_type": "code",
   "execution_count": null,
   "metadata": {},
   "outputs": [],
   "source": []
  }
 ],
 "metadata": {
  "kernelspec": {
   "display_name": "Python 3",
   "language": "python",
   "name": "python3"
  },
  "language_info": {
   "codemirror_mode": {
    "name": "ipython",
    "version": 3
   },
   "file_extension": ".py",
   "mimetype": "text/x-python",
   "name": "python",
   "nbconvert_exporter": "python",
   "pygments_lexer": "ipython3",
   "version": "3.12.4"
  }
 },
 "nbformat": 4,
 "nbformat_minor": 2
}
